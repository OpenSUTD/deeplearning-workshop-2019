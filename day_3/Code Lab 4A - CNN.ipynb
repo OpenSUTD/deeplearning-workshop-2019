{
 "cells": [
  {
   "cell_type": "markdown",
   "metadata": {},
   "source": [
    "# Code Lab 4A: CNN for Text Classification\n",
    "\n",
    "In this Code Lab, we are going to implement *Convolutional Neural Networks for Sentence Classification* (Yoon Kim, 2014).\n",
    "\n",
    "In his [paper](https://arxiv.org/abs/1408.5882), Yoon Kim proposed several techniques to achieve good text classification accuracy with minimal hyper-parameter tuning.\n",
    "\n",
    "This notebook consist of 4 main sections:\n",
    "\n",
    "1. Preparing the data\n",
    "2. Implementing Yoon Kim's CNN model\n",
    "3. Training the model\n",
    "4. Evaluating the model"
   ]
  },
  {
   "cell_type": "code",
   "execution_count": 1,
   "metadata": {},
   "outputs": [],
   "source": [
    "MAX_NB_WORDS = 100000    # max no. of words for tokenizer\n",
    "MAX_SEQUENCE_LENGTH = 30 # max length of each entry (sentence), including padding\n",
    "VALIDATION_SPLIT = 0.2   # data for validation (not used in training)\n",
    "EMBEDDING_DIM = 100      # embedding dimensions for word vectors (word2vec/GloVe)"
   ]
  },
  {
   "cell_type": "code",
   "execution_count": 2,
   "metadata": {},
   "outputs": [
    {
     "name": "stderr",
     "output_type": "stream",
     "text": [
      "Using TensorFlow backend.\n"
     ]
    }
   ],
   "source": [
    "import numpy as np\n",
    "import re, sys, csv, pickle\n",
    "from tqdm import tqdm_notebook\n",
    "\n",
    "from keras import regularizers, initializers, optimizers, callbacks\n",
    "from keras.preprocessing.sequence import pad_sequences\n",
    "from keras.preprocessing.text import Tokenizer\n",
    "from keras.utils.np_utils import to_categorical\n",
    "from keras.layers import *\n",
    "from keras.models import Model"
   ]
  },
  {
   "cell_type": "markdown",
   "metadata": {},
   "source": [
    "### 1. Prepare the data\n",
    "**Read from dataset**"
   ]
  },
  {
   "cell_type": "code",
   "execution_count": 3,
   "metadata": {},
   "outputs": [
    {
     "name": "stdout",
     "output_type": "stream",
     "text": [
      "GloVe data present at /home/jovyan/.keras/datasets/glove.6B.100d.txt.zip\n"
     ]
    }
   ],
   "source": [
    "# download pre-trained GloVe vectors\n",
    "\n",
    "import keras\n",
    "\n",
    "GLOVE_URL = \"https://s3-ap-southeast-1.amazonaws.com/deeplearning-mat/glove.6B.100d.txt.zip\"\n",
    "GLOVE_DIR = keras.utils.get_file(\"glove.6B.100d.txt.zip\", GLOVE_URL, cache_subdir='datasets', extract=True)\n",
    "print(\"GloVe data present at\", GLOVE_DIR)\n",
    "GLOVE_DIR = GLOVE_DIR.replace(\".zip\", \"\")"
   ]
  },
  {
   "cell_type": "code",
   "execution_count": 4,
   "metadata": {},
   "outputs": [],
   "source": [
    "from nltk.corpus import stopwords\n",
    "def clean_text(text, remove_stopwords=False):\n",
    "    output = \"\"\n",
    "    text = str(text).replace(\"\\n\", \"\")\n",
    "    text = re.sub(r'[^\\w\\s]','',text).lower()\n",
    "    if remove_stopwords:\n",
    "        text = text.split(\" \")\n",
    "        for word in text:\n",
    "            if word not in stopwords.words(\"english\"):\n",
    "                output = output + \" \" + word\n",
    "    else:\n",
    "        output = text\n",
    "    return str(output.strip())[1:-3].replace(\"  \", \" \")"
   ]
  },
  {
   "cell_type": "code",
   "execution_count": 5,
   "metadata": {},
   "outputs": [
    {
     "name": "stdout",
     "output_type": "stream",
     "text": [
      "Dataset present at /home/jovyan/.keras/datasets/stanford_movie.zip\n"
     ]
    }
   ],
   "source": [
    "DATA_URL = \"https://s3-ap-southeast-1.amazonaws.com/deeplearning-mat/stanford_movie.zip\"\n",
    "DATA_DIR = keras.utils.get_file(\"stanford_movie.zip\", DATA_URL, cache_subdir='datasets', extract=True)\n",
    "print(\"Dataset present at\", DATA_DIR)\n",
    "DATA_DIR = DATA_DIR.replace(\".zip\", \"\")"
   ]
  },
  {
   "cell_type": "code",
   "execution_count": 6,
   "metadata": {},
   "outputs": [
    {
     "data": {
      "application/vnd.jupyter.widget-view+json": {
       "model_id": "62b15b1afae24464acc3fd5fc0fddea6",
       "version_major": 2,
       "version_minor": 0
      },
      "text/plain": [
       "HBox(children=(IntProgress(value=0, max=5331), HTML(value='')))"
      ]
     },
     "metadata": {},
     "output_type": "display_data"
    },
    {
     "name": "stdout",
     "output_type": "stream",
     "text": [
      "\n"
     ]
    }
   ],
   "source": [
    "texts, labels = [], [] # empty lists for the sentences and labels\n",
    "\n",
    "data_neg = open(DATA_DIR+\"/stanford_movie_neg.txt\", \"rb\") \n",
    "for line in tqdm_notebook(data_neg, total=5331): \n",
    "    texts.append(clean_text(line, remove_stopwords=False))\n",
    "    labels.append(int(0))"
   ]
  },
  {
   "cell_type": "code",
   "execution_count": 7,
   "metadata": {},
   "outputs": [
    {
     "data": {
      "application/vnd.jupyter.widget-view+json": {
       "model_id": "323abf0c9e8f4046abc93212b3aedce0",
       "version_major": 2,
       "version_minor": 0
      },
      "text/plain": [
       "HBox(children=(IntProgress(value=0, max=5331), HTML(value='')))"
      ]
     },
     "metadata": {},
     "output_type": "display_data"
    },
    {
     "name": "stdout",
     "output_type": "stream",
     "text": [
      "\n"
     ]
    }
   ],
   "source": [
    "data_pos = open(DATA_DIR+\"/stanford_movie_pos.txt\", \"rb\") \n",
    "for line in tqdm_notebook(data_pos, total=5331): \n",
    "    texts.append(clean_text(line, remove_stopwords=False))\n",
    "    labels.append(int(1))"
   ]
  },
  {
   "cell_type": "code",
   "execution_count": 8,
   "metadata": {},
   "outputs": [
    {
     "name": "stdout",
     "output_type": "stream",
     "text": [
      "Sample negative: simplistic silly and tedious 0\n",
      "Sample positive: provides a porthole into that noble trembling incoherence that defines us all 1\n"
     ]
    }
   ],
   "source": [
    "print(\"Sample negative:\", texts[0], labels[0])\n",
    "print(\"Sample positive:\", texts[-1], labels[-1])"
   ]
  },
  {
   "cell_type": "markdown",
   "metadata": {},
   "source": [
    "**Word Tokenizer**"
   ]
  },
  {
   "cell_type": "code",
   "execution_count": 9,
   "metadata": {},
   "outputs": [
    {
     "name": "stdout",
     "output_type": "stream",
     "text": [
      "[i] Saved word tokenizer to file: tokenizer.pickle\n"
     ]
    },
    {
     "data": {
      "text/plain": [
       "\"\\nwith open('tokenizer.pickle', 'rb') as handle:\\n    tokenizer = pickle.load(handle)\\n\""
      ]
     },
     "execution_count": 9,
     "metadata": {},
     "output_type": "execute_result"
    }
   ],
   "source": [
    "CACHE_TOKENIZER = True\n",
    "\n",
    "tokenizer = Tokenizer(num_words=MAX_NB_WORDS)\n",
    "tokenizer.fit_on_texts(texts)\n",
    "\n",
    "if CACHE_TOKENIZER:\n",
    "    with open('tokenizer.pickle', 'wb') as handle:\n",
    "        pickle.dump(tokenizer, handle, protocol=pickle.HIGHEST_PROTOCOL)\n",
    "        print(\"[i] Saved word tokenizer to file: tokenizer.pickle\")\n",
    "\n",
    "# to use cached tokenizer:\n",
    "\"\"\"\n",
    "with open('tokenizer.pickle', 'rb') as handle:\n",
    "    tokenizer = pickle.load(handle)\n",
    "\"\"\""
   ]
  },
  {
   "cell_type": "markdown",
   "metadata": {},
   "source": [
    "**Generate the array of sequences from dataset**"
   ]
  },
  {
   "cell_type": "code",
   "execution_count": 10,
   "metadata": {},
   "outputs": [
    {
     "name": "stdout",
     "output_type": "stream",
     "text": [
      "[i] Vocabulary size: 20659\n"
     ]
    }
   ],
   "source": [
    "sequences = tokenizer.texts_to_sequences(texts)\n",
    "word_index = tokenizer.word_index\n",
    "print('[i] Vocabulary size:', len(word_index))\n",
    "\n",
    "# pad on both ends\n",
    "data_int = pad_sequences(sequences, padding='pre', maxlen=(MAX_SEQUENCE_LENGTH-5))\n",
    "data = pad_sequences(data_int, padding='post', maxlen=(MAX_SEQUENCE_LENGTH))"
   ]
  },
  {
   "cell_type": "markdown",
   "metadata": {},
   "source": [
    "**Create the train-validation split**"
   ]
  },
  {
   "cell_type": "code",
   "execution_count": 11,
   "metadata": {},
   "outputs": [
    {
     "name": "stdout",
     "output_type": "stream",
     "text": [
      "[i] Shape of data tensor: (10662, 30)\n",
      "[i] Shape of label tensor: (10662, 2)\n",
      "[i] Number of entries in each category:\n",
      "[+] Training: [4253. 4277.]\n",
      "[+] Validation: [1078. 1054.]\n"
     ]
    }
   ],
   "source": [
    "labels = to_categorical(np.asarray(labels)) # convert the category label to one-hot encoding\n",
    "print('[i] Shape of data tensor:', data.shape)\n",
    "print('[i] Shape of label tensor:', labels.shape)\n",
    "\n",
    "indices = np.arange(data.shape[0])\n",
    "np.random.shuffle(indices)\n",
    "data = data[indices]\n",
    "labels = labels[indices]\n",
    "nb_validation_samples = int(VALIDATION_SPLIT * data.shape[0])\n",
    "x_train = data[:-nb_validation_samples]\n",
    "y_train = labels[:-nb_validation_samples]\n",
    "x_val = data[-nb_validation_samples:]\n",
    "y_val = labels[-nb_validation_samples:]\n",
    "\n",
    "print('[i] Number of entries in each category:')\n",
    "print(\"[+] Training:\",y_train.sum(axis=0))\n",
    "print(\"[+] Validation:\",y_val.sum(axis=0))"
   ]
  },
  {
   "cell_type": "markdown",
   "metadata": {},
   "source": [
    "**What does the data look like?**"
   ]
  },
  {
   "cell_type": "code",
   "execution_count": 12,
   "metadata": {},
   "outputs": [
    {
     "name": "stdout",
     "output_type": "stream",
     "text": [
      "Tokenized sequence:\n",
      " [  0   0   0   0   0   0   0   0   0   0   0   0   0   0   0   0   0 833\n",
      "   2  15   8 193 389 115 350   0   0   0   0   0]\n",
      "\n",
      "One-hot label:\n",
      " [0. 1.]\n"
     ]
    }
   ],
   "source": [
    "print(\"Tokenized sequence:\\n\", data[0])\n",
    "print(\"\")\n",
    "print(\"One-hot label:\\n\", labels[0])"
   ]
  },
  {
   "cell_type": "markdown",
   "metadata": {},
   "source": [
    "### 2. Create the model\n",
    "Yoon Kim's model has several notable features:\n",
    "![model-structure](notebook_imgs/yoon_kim_structure.png)\n",
    "* two sets of word embeddings for what he terms a **\"multi-channel\" approach**.\n",
    "  * One of the word embeddings will be frozen (**\"static channel\"**), and one will be modified during the training process (**\"non-static channel\"**). \n",
    "* multiple convolutional kernel sizes\n",
    "\n",
    "We will now start to create the model in `Keras`."
   ]
  },
  {
   "cell_type": "markdown",
   "metadata": {},
   "source": [
    "**Load word embeddings into an `embeddings_index`**\n",
    "\n",
    "Create an index of words mapped to known embeddings, by parsing the data dump of pre-trained embeddings.\n",
    "\n",
    "We use a set from [pre-trained GloVe vectors from Stanford](https://nlp.stanford.edu/projects/glove/)."
   ]
  },
  {
   "cell_type": "code",
   "execution_count": 13,
   "metadata": {},
   "outputs": [
    {
     "name": "stdout",
     "output_type": "stream",
     "text": [
      "[i] (long) Loading GloVe from: /home/jovyan/.keras/datasets/glove.6B.100d.txt ...Done.\n",
      "[+] Proceeding with Embedding Matrix... Completed!\n"
     ]
    }
   ],
   "source": [
    "embeddings_index = {}\n",
    "f = open(GLOVE_DIR)\n",
    "print(\"[i] (long) Loading GloVe from:\",GLOVE_DIR,\"...\",end=\"\")\n",
    "for line in f:\n",
    "    values = line.split()\n",
    "    word = values[0]\n",
    "    embeddings_index[word] = np.asarray(values[1:], dtype='float32')\n",
    "f.close()\n",
    "print(\"Done.\\n[+] Proceeding with Embedding Matrix...\", end=\"\")\n",
    "embedding_matrix = np.random.random((len(word_index) + 1, EMBEDDING_DIM))\n",
    "for word, i in word_index.items():\n",
    "    embedding_vector = embeddings_index.get(word)\n",
    "    if embedding_vector is not None:\n",
    "        # words not found in embedding index will be all-zeros.\n",
    "        embedding_matrix[i] = embedding_vector\n",
    "print(\" Completed!\")"
   ]
  },
  {
   "cell_type": "code",
   "execution_count": 14,
   "metadata": {},
   "outputs": [],
   "source": [
    "# second embedding matrix for non-static channel\n",
    "embedding_matrix_ns = np.random.random((len(word_index) + 1, EMBEDDING_DIM))\n",
    "for word, i in word_index.items():\n",
    "    embedding_vector = embeddings_index.get(word)\n",
    "    if embedding_vector is not None:\n",
    "        # words not found in embedding index will be all-zeros.\n",
    "        embedding_matrix_ns[i] = embedding_vector"
   ]
  },
  {
   "cell_type": "markdown",
   "metadata": {},
   "source": [
    "**Create the `Embedding` layers**"
   ]
  },
  {
   "cell_type": "code",
   "execution_count": 15,
   "metadata": {},
   "outputs": [
    {
     "name": "stdout",
     "output_type": "stream",
     "text": [
      "WARNING:tensorflow:From /opt/conda/lib/python3.6/site-packages/tensorflow/python/framework/op_def_library.py:263: colocate_with (from tensorflow.python.framework.ops) is deprecated and will be removed in a future version.\n",
      "Instructions for updating:\n",
      "Colocations handled automatically by placer.\n"
     ]
    }
   ],
   "source": [
    "sequence_input = Input(shape=(MAX_SEQUENCE_LENGTH,), dtype='int32') # input to the model\n",
    "\n",
    "# static channel\n",
    "embedding_layer_frozen = Embedding(len(word_index) + 1,\n",
    "                            EMBEDDING_DIM,\n",
    "                            weights=[embedding_matrix],\n",
    "                            input_length=MAX_SEQUENCE_LENGTH,\n",
    "                            trainable=False)\n",
    "embedded_sequences_frozen = embedding_layer_frozen(sequence_input)\n",
    "\n",
    "# non-static channel\n",
    "embedding_layer_train = Embedding(len(word_index) + 1,\n",
    "                            EMBEDDING_DIM,\n",
    "                            weights=[embedding_matrix_ns],\n",
    "                            input_length=MAX_SEQUENCE_LENGTH,\n",
    "                            trainable=True)\n",
    "embedded_sequences_train = embedding_layer_train(sequence_input)\n",
    "\n",
    "l_embed = Concatenate(axis=1)([embedded_sequences_frozen, embedded_sequences_train])"
   ]
  },
  {
   "cell_type": "markdown",
   "metadata": {},
   "source": [
    "**Create the CNN layer with multiple kernel (filter) sizes**"
   ]
  },
  {
   "cell_type": "code",
   "execution_count": 16,
   "metadata": {},
   "outputs": [],
   "source": [
    "l_conv_3 = Conv1D(filters=64,kernel_size=3,activation='relu')(l_embed)\n",
    "l_conv_4 = Conv1D(filters=64,kernel_size=4,activation='relu')(l_embed)\n",
    "l_conv_5 = Conv1D(filters=64,kernel_size=5,activation='relu')(l_embed)\n",
    "\n",
    "l_conv = Concatenate(axis=1)([l_conv_3, l_conv_4, l_conv_5])"
   ]
  },
  {
   "cell_type": "markdown",
   "metadata": {},
   "source": [
    "Followed by the rest of the model (boring!!)"
   ]
  },
  {
   "cell_type": "code",
   "execution_count": 17,
   "metadata": {},
   "outputs": [
    {
     "name": "stdout",
     "output_type": "stream",
     "text": [
      "WARNING:tensorflow:From /opt/conda/lib/python3.6/site-packages/keras/backend/tensorflow_backend.py:3445: calling dropout (from tensorflow.python.ops.nn_ops) with keep_prob is deprecated and will be removed in a future version.\n",
      "Instructions for updating:\n",
      "Please use `rate` instead of `keep_prob`. Rate should be set to `rate = 1 - keep_prob`.\n"
     ]
    }
   ],
   "source": [
    "l_pool = MaxPooling1D(4)(l_conv)\n",
    "l_drop = Dropout(0.5)(l_pool)\n",
    "l_flat = Flatten()(l_drop)\n",
    "l_dense = Dense(32, activation='relu')(l_flat)\n",
    "preds = Dense(2, activation='softmax')(l_dense) #follows the number of classes"
   ]
  },
  {
   "cell_type": "markdown",
   "metadata": {},
   "source": [
    "**Compile the model into a static graph for training**"
   ]
  },
  {
   "cell_type": "code",
   "execution_count": 18,
   "metadata": {},
   "outputs": [
    {
     "name": "stdout",
     "output_type": "stream",
     "text": [
      "__________________________________________________________________________________________________\n",
      "Layer (type)                    Output Shape         Param #     Connected to                     \n",
      "==================================================================================================\n",
      "input_1 (InputLayer)            (None, 30)           0                                            \n",
      "__________________________________________________________________________________________________\n",
      "embedding_1 (Embedding)         (None, 30, 100)      2066000     input_1[0][0]                    \n",
      "__________________________________________________________________________________________________\n",
      "embedding_2 (Embedding)         (None, 30, 100)      2066000     input_1[0][0]                    \n",
      "__________________________________________________________________________________________________\n",
      "concatenate_1 (Concatenate)     (None, 60, 100)      0           embedding_1[0][0]                \n",
      "                                                                 embedding_2[0][0]                \n",
      "__________________________________________________________________________________________________\n",
      "conv1d_1 (Conv1D)               (None, 58, 64)       19264       concatenate_1[0][0]              \n",
      "__________________________________________________________________________________________________\n",
      "conv1d_2 (Conv1D)               (None, 57, 64)       25664       concatenate_1[0][0]              \n",
      "__________________________________________________________________________________________________\n",
      "conv1d_3 (Conv1D)               (None, 56, 64)       32064       concatenate_1[0][0]              \n",
      "__________________________________________________________________________________________________\n",
      "concatenate_2 (Concatenate)     (None, 171, 64)      0           conv1d_1[0][0]                   \n",
      "                                                                 conv1d_2[0][0]                   \n",
      "                                                                 conv1d_3[0][0]                   \n",
      "__________________________________________________________________________________________________\n",
      "max_pooling1d_1 (MaxPooling1D)  (None, 42, 64)       0           concatenate_2[0][0]              \n",
      "__________________________________________________________________________________________________\n",
      "dropout_1 (Dropout)             (None, 42, 64)       0           max_pooling1d_1[0][0]            \n",
      "__________________________________________________________________________________________________\n",
      "flatten_1 (Flatten)             (None, 2688)         0           dropout_1[0][0]                  \n",
      "__________________________________________________________________________________________________\n",
      "dense_1 (Dense)                 (None, 32)           86048       flatten_1[0][0]                  \n",
      "__________________________________________________________________________________________________\n",
      "dense_2 (Dense)                 (None, 2)            66          dense_1[0][0]                    \n",
      "==================================================================================================\n",
      "Total params: 4,295,106\n",
      "Trainable params: 2,229,106\n",
      "Non-trainable params: 2,066,000\n",
      "__________________________________________________________________________________________________\n"
     ]
    }
   ],
   "source": [
    "model = Model(sequence_input, preds)\n",
    "model.compile(loss='binary_crossentropy',\n",
    "              optimizer=\"rmsprop\",\n",
    "              metrics=['acc'])\n",
    "model.summary()"
   ]
  },
  {
   "cell_type": "markdown",
   "metadata": {},
   "source": [
    "**Model Architecture Visualisation**"
   ]
  },
  {
   "cell_type": "code",
   "execution_count": 19,
   "metadata": {},
   "outputs": [
    {
     "data": {
      "image/svg+xml": [
       "<svg height=\"702pt\" viewBox=\"0.00 0.00 443.00 702.00\" width=\"443pt\" xmlns=\"http://www.w3.org/2000/svg\" xmlns:xlink=\"http://www.w3.org/1999/xlink\">\n",
       "<g class=\"graph\" id=\"graph0\" transform=\"scale(1 1) rotate(0) translate(4 698)\">\n",
       "<title>G</title>\n",
       "<polygon fill=\"#ffffff\" points=\"-4,4 -4,-698 439,-698 439,4 -4,4\" stroke=\"transparent\"/>\n",
       "<!-- 140407771232800 -->\n",
       "<g class=\"node\" id=\"node1\">\n",
       "<title>140407771232800</title>\n",
       "<polygon fill=\"none\" points=\"151,-657.5 151,-693.5 284,-693.5 284,-657.5 151,-657.5\" stroke=\"#000000\"/>\n",
       "<text fill=\"#000000\" font-family=\"Times,serif\" font-size=\"14.00\" text-anchor=\"middle\" x=\"217.5\" y=\"-671.8\">input_1: InputLayer</text>\n",
       "</g>\n",
       "<!-- 140407771234256 -->\n",
       "<g class=\"node\" id=\"node2\">\n",
       "<title>140407771234256</title>\n",
       "<polygon fill=\"none\" points=\"38,-584.5 38,-620.5 209,-620.5 209,-584.5 38,-584.5\" stroke=\"#000000\"/>\n",
       "<text fill=\"#000000\" font-family=\"Times,serif\" font-size=\"14.00\" text-anchor=\"middle\" x=\"123.5\" y=\"-598.8\">embedding_1: Embedding</text>\n",
       "</g>\n",
       "<!-- 140407771232800&#45;&gt;140407771234256 -->\n",
       "<g class=\"edge\" id=\"edge1\">\n",
       "<title>140407771232800-&gt;140407771234256</title>\n",
       "<path d=\"M194.264,-657.4551C182.4009,-648.2422 167.7967,-636.9006 154.9424,-626.918\" fill=\"none\" stroke=\"#000000\"/>\n",
       "<polygon fill=\"#000000\" points=\"156.8393,-623.9597 146.7944,-620.5904 152.5457,-629.4883 156.8393,-623.9597\" stroke=\"#000000\"/>\n",
       "</g>\n",
       "<!-- 140407774568344 -->\n",
       "<g class=\"node\" id=\"node3\">\n",
       "<title>140407774568344</title>\n",
       "<polygon fill=\"none\" points=\"227,-584.5 227,-620.5 398,-620.5 398,-584.5 227,-584.5\" stroke=\"#000000\"/>\n",
       "<text fill=\"#000000\" font-family=\"Times,serif\" font-size=\"14.00\" text-anchor=\"middle\" x=\"312.5\" y=\"-598.8\">embedding_2: Embedding</text>\n",
       "</g>\n",
       "<!-- 140407771232800&#45;&gt;140407774568344 -->\n",
       "<g class=\"edge\" id=\"edge2\">\n",
       "<title>140407771232800-&gt;140407774568344</title>\n",
       "<path d=\"M240.9832,-657.4551C252.9725,-648.2422 267.7321,-636.9006 280.7231,-626.918\" fill=\"none\" stroke=\"#000000\"/>\n",
       "<polygon fill=\"#000000\" points=\"283.161,-629.4587 288.9578,-620.5904 278.8958,-623.9082 283.161,-629.4587\" stroke=\"#000000\"/>\n",
       "</g>\n",
       "<!-- 140407733270680 -->\n",
       "<g class=\"node\" id=\"node4\">\n",
       "<title>140407733270680</title>\n",
       "<polygon fill=\"none\" points=\"130,-511.5 130,-547.5 305,-547.5 305,-511.5 130,-511.5\" stroke=\"#000000\"/>\n",
       "<text fill=\"#000000\" font-family=\"Times,serif\" font-size=\"14.00\" text-anchor=\"middle\" x=\"217.5\" y=\"-525.8\">concatenate_1: Concatenate</text>\n",
       "</g>\n",
       "<!-- 140407771234256&#45;&gt;140407733270680 -->\n",
       "<g class=\"edge\" id=\"edge3\">\n",
       "<title>140407771234256-&gt;140407733270680</title>\n",
       "<path d=\"M146.736,-584.4551C158.5991,-575.2422 173.2033,-563.9006 186.0576,-553.918\" fill=\"none\" stroke=\"#000000\"/>\n",
       "<polygon fill=\"#000000\" points=\"188.4543,-556.4883 194.2056,-547.5904 184.1607,-550.9597 188.4543,-556.4883\" stroke=\"#000000\"/>\n",
       "</g>\n",
       "<!-- 140407774568344&#45;&gt;140407733270680 -->\n",
       "<g class=\"edge\" id=\"edge4\">\n",
       "<title>140407774568344-&gt;140407733270680</title>\n",
       "<path d=\"M289.0168,-584.4551C277.0275,-575.2422 262.2679,-563.9006 249.2769,-553.918\" fill=\"none\" stroke=\"#000000\"/>\n",
       "<polygon fill=\"#000000\" points=\"251.1042,-550.9082 241.0422,-547.5904 246.839,-556.4587 251.1042,-550.9082\" stroke=\"#000000\"/>\n",
       "</g>\n",
       "<!-- 140407771233024 -->\n",
       "<g class=\"node\" id=\"node5\">\n",
       "<title>140407771233024</title>\n",
       "<polygon fill=\"none\" points=\"0,-438.5 0,-474.5 133,-474.5 133,-438.5 0,-438.5\" stroke=\"#000000\"/>\n",
       "<text fill=\"#000000\" font-family=\"Times,serif\" font-size=\"14.00\" text-anchor=\"middle\" x=\"66.5\" y=\"-452.8\">conv1d_1: Conv1D</text>\n",
       "</g>\n",
       "<!-- 140407733270680&#45;&gt;140407771233024 -->\n",
       "<g class=\"edge\" id=\"edge5\">\n",
       "<title>140407733270680-&gt;140407771233024</title>\n",
       "<path d=\"M180.1741,-511.4551C159.9377,-501.6719 134.736,-489.4883 113.2078,-479.0806\" fill=\"none\" stroke=\"#000000\"/>\n",
       "<polygon fill=\"#000000\" points=\"114.4463,-475.7918 103.9198,-474.5904 111.3995,-482.094 114.4463,-475.7918\" stroke=\"#000000\"/>\n",
       "</g>\n",
       "<!-- 140407771234144 -->\n",
       "<g class=\"node\" id=\"node6\">\n",
       "<title>140407771234144</title>\n",
       "<polygon fill=\"none\" points=\"151,-438.5 151,-474.5 284,-474.5 284,-438.5 151,-438.5\" stroke=\"#000000\"/>\n",
       "<text fill=\"#000000\" font-family=\"Times,serif\" font-size=\"14.00\" text-anchor=\"middle\" x=\"217.5\" y=\"-452.8\">conv1d_2: Conv1D</text>\n",
       "</g>\n",
       "<!-- 140407733270680&#45;&gt;140407771234144 -->\n",
       "<g class=\"edge\" id=\"edge6\">\n",
       "<title>140407733270680-&gt;140407771234144</title>\n",
       "<path d=\"M217.5,-511.4551C217.5,-503.3828 217.5,-493.6764 217.5,-484.6817\" fill=\"none\" stroke=\"#000000\"/>\n",
       "<polygon fill=\"#000000\" points=\"221.0001,-484.5903 217.5,-474.5904 214.0001,-484.5904 221.0001,-484.5903\" stroke=\"#000000\"/>\n",
       "</g>\n",
       "<!-- 140407733009600 -->\n",
       "<g class=\"node\" id=\"node7\">\n",
       "<title>140407733009600</title>\n",
       "<polygon fill=\"none\" points=\"302,-438.5 302,-474.5 435,-474.5 435,-438.5 302,-438.5\" stroke=\"#000000\"/>\n",
       "<text fill=\"#000000\" font-family=\"Times,serif\" font-size=\"14.00\" text-anchor=\"middle\" x=\"368.5\" y=\"-452.8\">conv1d_3: Conv1D</text>\n",
       "</g>\n",
       "<!-- 140407733270680&#45;&gt;140407733009600 -->\n",
       "<g class=\"edge\" id=\"edge7\">\n",
       "<title>140407733270680-&gt;140407733009600</title>\n",
       "<path d=\"M254.8259,-511.4551C275.0623,-501.6719 300.264,-489.4883 321.7922,-479.0806\" fill=\"none\" stroke=\"#000000\"/>\n",
       "<polygon fill=\"#000000\" points=\"323.6005,-482.094 331.0802,-474.5904 320.5537,-475.7918 323.6005,-482.094\" stroke=\"#000000\"/>\n",
       "</g>\n",
       "<!-- 140407730720664 -->\n",
       "<g class=\"node\" id=\"node8\">\n",
       "<title>140407730720664</title>\n",
       "<polygon fill=\"none\" points=\"130,-365.5 130,-401.5 305,-401.5 305,-365.5 130,-365.5\" stroke=\"#000000\"/>\n",
       "<text fill=\"#000000\" font-family=\"Times,serif\" font-size=\"14.00\" text-anchor=\"middle\" x=\"217.5\" y=\"-379.8\">concatenate_2: Concatenate</text>\n",
       "</g>\n",
       "<!-- 140407771233024&#45;&gt;140407730720664 -->\n",
       "<g class=\"edge\" id=\"edge8\">\n",
       "<title>140407771233024-&gt;140407730720664</title>\n",
       "<path d=\"M103.8259,-438.4551C124.0623,-428.6719 149.264,-416.4883 170.7922,-406.0806\" fill=\"none\" stroke=\"#000000\"/>\n",
       "<polygon fill=\"#000000\" points=\"172.6005,-409.094 180.0802,-401.5904 169.5537,-402.7918 172.6005,-409.094\" stroke=\"#000000\"/>\n",
       "</g>\n",
       "<!-- 140407771234144&#45;&gt;140407730720664 -->\n",
       "<g class=\"edge\" id=\"edge9\">\n",
       "<title>140407771234144-&gt;140407730720664</title>\n",
       "<path d=\"M217.5,-438.4551C217.5,-430.3828 217.5,-420.6764 217.5,-411.6817\" fill=\"none\" stroke=\"#000000\"/>\n",
       "<polygon fill=\"#000000\" points=\"221.0001,-411.5903 217.5,-401.5904 214.0001,-411.5904 221.0001,-411.5903\" stroke=\"#000000\"/>\n",
       "</g>\n",
       "<!-- 140407733009600&#45;&gt;140407730720664 -->\n",
       "<g class=\"edge\" id=\"edge10\">\n",
       "<title>140407733009600-&gt;140407730720664</title>\n",
       "<path d=\"M331.1741,-438.4551C310.9377,-428.6719 285.736,-416.4883 264.2078,-406.0806\" fill=\"none\" stroke=\"#000000\"/>\n",
       "<polygon fill=\"#000000\" points=\"265.4463,-402.7918 254.9198,-401.5904 262.3995,-409.094 265.4463,-402.7918\" stroke=\"#000000\"/>\n",
       "</g>\n",
       "<!-- 140407521938512 -->\n",
       "<g class=\"node\" id=\"node9\">\n",
       "<title>140407521938512</title>\n",
       "<polygon fill=\"none\" points=\"107,-292.5 107,-328.5 328,-328.5 328,-292.5 107,-292.5\" stroke=\"#000000\"/>\n",
       "<text fill=\"#000000\" font-family=\"Times,serif\" font-size=\"14.00\" text-anchor=\"middle\" x=\"217.5\" y=\"-306.8\">max_pooling1d_1: MaxPooling1D</text>\n",
       "</g>\n",
       "<!-- 140407730720664&#45;&gt;140407521938512 -->\n",
       "<g class=\"edge\" id=\"edge11\">\n",
       "<title>140407730720664-&gt;140407521938512</title>\n",
       "<path d=\"M217.5,-365.4551C217.5,-357.3828 217.5,-347.6764 217.5,-338.6817\" fill=\"none\" stroke=\"#000000\"/>\n",
       "<polygon fill=\"#000000\" points=\"221.0001,-338.5903 217.5,-328.5904 214.0001,-338.5904 221.0001,-338.5903\" stroke=\"#000000\"/>\n",
       "</g>\n",
       "<!-- 140407521936664 -->\n",
       "<g class=\"node\" id=\"node10\">\n",
       "<title>140407521936664</title>\n",
       "<polygon fill=\"none\" points=\"150.5,-219.5 150.5,-255.5 284.5,-255.5 284.5,-219.5 150.5,-219.5\" stroke=\"#000000\"/>\n",
       "<text fill=\"#000000\" font-family=\"Times,serif\" font-size=\"14.00\" text-anchor=\"middle\" x=\"217.5\" y=\"-233.8\">dropout_1: Dropout</text>\n",
       "</g>\n",
       "<!-- 140407521938512&#45;&gt;140407521936664 -->\n",
       "<g class=\"edge\" id=\"edge12\">\n",
       "<title>140407521938512-&gt;140407521936664</title>\n",
       "<path d=\"M217.5,-292.4551C217.5,-284.3828 217.5,-274.6764 217.5,-265.6817\" fill=\"none\" stroke=\"#000000\"/>\n",
       "<polygon fill=\"#000000\" points=\"221.0001,-265.5903 217.5,-255.5904 214.0001,-265.5904 221.0001,-265.5903\" stroke=\"#000000\"/>\n",
       "</g>\n",
       "<!-- 140407521937504 -->\n",
       "<g class=\"node\" id=\"node11\">\n",
       "<title>140407521937504</title>\n",
       "<polygon fill=\"none\" points=\"161,-146.5 161,-182.5 274,-182.5 274,-146.5 161,-146.5\" stroke=\"#000000\"/>\n",
       "<text fill=\"#000000\" font-family=\"Times,serif\" font-size=\"14.00\" text-anchor=\"middle\" x=\"217.5\" y=\"-160.8\">flatten_1: Flatten</text>\n",
       "</g>\n",
       "<!-- 140407521936664&#45;&gt;140407521937504 -->\n",
       "<g class=\"edge\" id=\"edge13\">\n",
       "<title>140407521936664-&gt;140407521937504</title>\n",
       "<path d=\"M217.5,-219.4551C217.5,-211.3828 217.5,-201.6764 217.5,-192.6817\" fill=\"none\" stroke=\"#000000\"/>\n",
       "<polygon fill=\"#000000\" points=\"221.0001,-192.5903 217.5,-182.5904 214.0001,-192.5904 221.0001,-192.5903\" stroke=\"#000000\"/>\n",
       "</g>\n",
       "<!-- 140407521938848 -->\n",
       "<g class=\"node\" id=\"node12\">\n",
       "<title>140407521938848</title>\n",
       "<polygon fill=\"none\" points=\"164,-73.5 164,-109.5 271,-109.5 271,-73.5 164,-73.5\" stroke=\"#000000\"/>\n",
       "<text fill=\"#000000\" font-family=\"Times,serif\" font-size=\"14.00\" text-anchor=\"middle\" x=\"217.5\" y=\"-87.8\">dense_1: Dense</text>\n",
       "</g>\n",
       "<!-- 140407521937504&#45;&gt;140407521938848 -->\n",
       "<g class=\"edge\" id=\"edge14\">\n",
       "<title>140407521937504-&gt;140407521938848</title>\n",
       "<path d=\"M217.5,-146.4551C217.5,-138.3828 217.5,-128.6764 217.5,-119.6817\" fill=\"none\" stroke=\"#000000\"/>\n",
       "<polygon fill=\"#000000\" points=\"221.0001,-119.5903 217.5,-109.5904 214.0001,-119.5904 221.0001,-119.5903\" stroke=\"#000000\"/>\n",
       "</g>\n",
       "<!-- 140407522040072 -->\n",
       "<g class=\"node\" id=\"node13\">\n",
       "<title>140407522040072</title>\n",
       "<polygon fill=\"none\" points=\"164,-.5 164,-36.5 271,-36.5 271,-.5 164,-.5\" stroke=\"#000000\"/>\n",
       "<text fill=\"#000000\" font-family=\"Times,serif\" font-size=\"14.00\" text-anchor=\"middle\" x=\"217.5\" y=\"-14.8\">dense_2: Dense</text>\n",
       "</g>\n",
       "<!-- 140407521938848&#45;&gt;140407522040072 -->\n",
       "<g class=\"edge\" id=\"edge15\">\n",
       "<title>140407521938848-&gt;140407522040072</title>\n",
       "<path d=\"M217.5,-73.4551C217.5,-65.3828 217.5,-55.6764 217.5,-46.6817\" fill=\"none\" stroke=\"#000000\"/>\n",
       "<polygon fill=\"#000000\" points=\"221.0001,-46.5903 217.5,-36.5904 214.0001,-46.5904 221.0001,-46.5903\" stroke=\"#000000\"/>\n",
       "</g>\n",
       "</g>\n",
       "</svg>"
      ],
      "text/plain": [
       "<IPython.core.display.SVG object>"
      ]
     },
     "execution_count": 19,
     "metadata": {},
     "output_type": "execute_result"
    }
   ],
   "source": [
    "from IPython.display import SVG\n",
    "from keras.utils.vis_utils import model_to_dot\n",
    "SVG(model_to_dot(model).create(prog='dot', format='svg'))"
   ]
  },
  {
   "cell_type": "markdown",
   "metadata": {},
   "source": [
    "### 3. Train the model"
   ]
  },
  {
   "cell_type": "code",
   "execution_count": 20,
   "metadata": {},
   "outputs": [
    {
     "name": "stdout",
     "output_type": "stream",
     "text": [
      "Training Progress:\n",
      "WARNING:tensorflow:From /opt/conda/lib/python3.6/site-packages/tensorflow/python/ops/math_ops.py:3066: to_int32 (from tensorflow.python.ops.math_ops) is deprecated and will be removed in a future version.\n",
      "Instructions for updating:\n",
      "Use tf.cast instead.\n",
      "Train on 8530 samples, validate on 2132 samples\n",
      "Epoch 1/30\n",
      "8530/8530 [==============================] - 2s 218us/step - loss: 0.7477 - acc: 0.5135 - val_loss: 0.6917 - val_acc: 0.5202\n",
      "Epoch 2/30\n",
      "8530/8530 [==============================] - 1s 76us/step - loss: 0.6232 - acc: 0.6475 - val_loss: 0.5699 - val_acc: 0.7045\n",
      "Epoch 3/30\n",
      "8530/8530 [==============================] - 1s 94us/step - loss: 0.5289 - acc: 0.7358 - val_loss: 0.5053 - val_acc: 0.7556\n",
      "Epoch 4/30\n",
      "8530/8530 [==============================] - 1s 92us/step - loss: 0.4609 - acc: 0.7853 - val_loss: 0.5296 - val_acc: 0.7453\n",
      "Epoch 5/30\n",
      "8530/8530 [==============================] - 1s 93us/step - loss: 0.3883 - acc: 0.8200 - val_loss: 0.5201 - val_acc: 0.7669\n",
      "Epoch 6/30\n",
      "8530/8530 [==============================] - 1s 92us/step - loss: 0.3256 - acc: 0.8576 - val_loss: 0.4962 - val_acc: 0.7838\n",
      "Epoch 7/30\n",
      "8530/8530 [==============================] - 1s 83us/step - loss: 0.2572 - acc: 0.8928 - val_loss: 0.5365 - val_acc: 0.7819\n",
      "Epoch 8/30\n",
      "8530/8530 [==============================] - 1s 81us/step - loss: 0.1929 - acc: 0.9222 - val_loss: 0.5495 - val_acc: 0.7871\n",
      "Epoch 9/30\n",
      "8530/8530 [==============================] - 1s 78us/step - loss: 0.1464 - acc: 0.9414 - val_loss: 0.7320 - val_acc: 0.7627\n",
      "Epoch 10/30\n",
      "8530/8530 [==============================] - 1s 81us/step - loss: 0.1146 - acc: 0.9560 - val_loss: 0.6872 - val_acc: 0.7781\n",
      "Epoch 11/30\n",
      "8530/8530 [==============================] - 1s 80us/step - loss: 0.0922 - acc: 0.9661 - val_loss: 0.8639 - val_acc: 0.7913\n",
      "Epoch 12/30\n",
      "8530/8530 [==============================] - 1s 84us/step - loss: 0.0759 - acc: 0.9712 - val_loss: 0.8915 - val_acc: 0.7795\n",
      "Epoch 13/30\n",
      "8530/8530 [==============================] - 1s 81us/step - loss: 0.0590 - acc: 0.9775 - val_loss: 1.1136 - val_acc: 0.7842\n",
      "Epoch 14/30\n",
      "8530/8530 [==============================] - 1s 80us/step - loss: 0.0499 - acc: 0.9816 - val_loss: 1.0445 - val_acc: 0.7791\n",
      "Epoch 15/30\n",
      "8530/8530 [==============================] - 1s 81us/step - loss: 0.0423 - acc: 0.9834 - val_loss: 1.1709 - val_acc: 0.7819\n",
      "Epoch 16/30\n",
      "8530/8530 [==============================] - 1s 81us/step - loss: 0.0376 - acc: 0.9855 - val_loss: 1.2104 - val_acc: 0.7889\n",
      "Epoch 17/30\n",
      "8530/8530 [==============================] - 1s 82us/step - loss: 0.0291 - acc: 0.9892 - val_loss: 1.4632 - val_acc: 0.7669\n",
      "Epoch 18/30\n",
      "8530/8530 [==============================] - 1s 85us/step - loss: 0.0299 - acc: 0.9913 - val_loss: 1.3443 - val_acc: 0.7824\n",
      "Epoch 19/30\n",
      "8530/8530 [==============================] - 1s 81us/step - loss: 0.0231 - acc: 0.9925 - val_loss: 1.4985 - val_acc: 0.7786\n",
      "Epoch 20/30\n",
      "8530/8530 [==============================] - 1s 80us/step - loss: 0.0247 - acc: 0.9914 - val_loss: 1.5721 - val_acc: 0.7866\n",
      "Epoch 21/30\n",
      "8530/8530 [==============================] - 1s 82us/step - loss: 0.0241 - acc: 0.9916 - val_loss: 1.5089 - val_acc: 0.7791\n",
      "Epoch 22/30\n",
      "8530/8530 [==============================] - 1s 81us/step - loss: 0.0179 - acc: 0.9937 - val_loss: 1.5927 - val_acc: 0.7824\n",
      "Epoch 23/30\n",
      "8530/8530 [==============================] - 1s 82us/step - loss: 0.0195 - acc: 0.9943 - val_loss: 1.6708 - val_acc: 0.7795\n",
      "Epoch 24/30\n",
      "8530/8530 [==============================] - 1s 85us/step - loss: 0.0198 - acc: 0.9934 - val_loss: 1.7363 - val_acc: 0.7772\n",
      "Epoch 25/30\n",
      "8530/8530 [==============================] - 1s 82us/step - loss: 0.0117 - acc: 0.9962 - val_loss: 1.7258 - val_acc: 0.7720\n",
      "Epoch 26/30\n",
      "8530/8530 [==============================] - 1s 76us/step - loss: 0.0143 - acc: 0.9955 - val_loss: 1.7111 - val_acc: 0.7753\n",
      "Epoch 27/30\n",
      "8530/8530 [==============================] - 1s 77us/step - loss: 0.0122 - acc: 0.9968 - val_loss: 1.9898 - val_acc: 0.7781\n",
      "Epoch 28/30\n",
      "8530/8530 [==============================] - 1s 73us/step - loss: 0.0126 - acc: 0.9957 - val_loss: 1.8551 - val_acc: 0.7800\n",
      "Epoch 29/30\n",
      "8530/8530 [==============================] - 1s 64us/step - loss: 0.0164 - acc: 0.9955 - val_loss: 1.9739 - val_acc: 0.7749\n",
      "Epoch 30/30\n",
      "8530/8530 [==============================] - 1s 63us/step - loss: 0.0163 - acc: 0.9958 - val_loss: 1.6919 - val_acc: 0.7781\n"
     ]
    }
   ],
   "source": [
    "print(\"Training Progress:\")\n",
    "model_log = model.fit(x_train, y_train, validation_data=(x_val, y_val),\n",
    "                      epochs=30, batch_size=64)"
   ]
  },
  {
   "cell_type": "code",
   "execution_count": 21,
   "metadata": {},
   "outputs": [],
   "source": [
    "model.save(\"cnn.h5\")"
   ]
  },
  {
   "cell_type": "markdown",
   "metadata": {},
   "source": [
    "### 4. Evaluate the model"
   ]
  },
  {
   "cell_type": "code",
   "execution_count": 22,
   "metadata": {},
   "outputs": [
    {
     "data": {
      "image/png": "[encoded data removed]",
      "text/plain": [
       "<Figure size 432x288 with 1 Axes>"
      ]
     },
     "metadata": {
      "needs_background": "light"
     },
     "output_type": "display_data"
    },
    {
     "data": {
      "image/png": "[encoded data removed]",
      "text/plain": [
       "<Figure size 432x288 with 1 Axes>"
      ]
     },
     "metadata": {
      "needs_background": "light"
     },
     "output_type": "display_data"
    }
   ],
   "source": [
    "import matplotlib.pyplot as plt\n",
    "%matplotlib inline\n",
    "\n",
    "plt.plot(model_log.history['acc'])\n",
    "plt.plot(model_log.history['val_acc'])\n",
    "plt.title('Accuracy (Higher Better)')\n",
    "plt.ylabel('Accuracy')\n",
    "plt.xlabel('Epoch')\n",
    "plt.legend(['train', 'validation'], loc='upper left')\n",
    "plt.show()\n",
    "\n",
    "plt.plot(model_log.history['loss'])\n",
    "plt.plot(model_log.history['val_loss'])\n",
    "plt.title('Loss (Lower Better)')\n",
    "plt.ylabel('Loss')\n",
    "plt.xlabel('Epoch')\n",
    "plt.legend(['train', 'validation'], loc='upper left')\n",
    "plt.show()"
   ]
  },
  {
   "cell_type": "code",
   "execution_count": 23,
   "metadata": {},
   "outputs": [],
   "source": [
    "from sklearn.metrics import classification_report, confusion_matrix\n",
    "import itertools, pickle\n",
    "\n",
    "classes = [\"positive\", \"negative\"]"
   ]
  },
  {
   "cell_type": "code",
   "execution_count": 24,
   "metadata": {},
   "outputs": [
    {
     "name": "stdout",
     "output_type": "stream",
     "text": [
      "              precision    recall  f1-score   support\n",
      "\n",
      "    positive       0.76      0.81      0.79      1078\n",
      "    negative       0.79      0.74      0.77      1054\n",
      "\n",
      "   micro avg       0.78      0.78      0.78      2132\n",
      "   macro avg       0.78      0.78      0.78      2132\n",
      "weighted avg       0.78      0.78      0.78      2132\n",
      "\n"
     ]
    }
   ],
   "source": [
    "Y_test = np.argmax(y_val, axis=1) # Convert one-hot to index\n",
    "y_pred = model.predict(x_val)\n",
    "y_pred_class = np.argmax(y_pred,axis=1)\n",
    "print(classification_report(Y_test, y_pred_class, target_names=classes))"
   ]
  },
  {
   "cell_type": "code",
   "execution_count": 25,
   "metadata": {},
   "outputs": [
    {
     "data": {
      "image/png": "[encoded data removed]",
      "text/plain": [
       "<Figure size 1008x504 with 2 Axes>"
      ]
     },
     "metadata": {},
     "output_type": "display_data"
    }
   ],
   "source": [
    "plt.style.use('seaborn-dark')\n",
    "def plot_confusion_matrix(cm, labels,\n",
    "                          normalize=True,\n",
    "                          title='Confusion Matrix (Validation Set)',\n",
    "                          cmap=plt.cm.Blues):\n",
    "    \"\"\"\n",
    "    This function prints and plots the confusion matrix.\n",
    "    Normalization can be applied by setting `normalize=True`.\n",
    "    \"\"\"\n",
    "    if normalize:\n",
    "        cm = cm.astype('float') / cm.sum(axis=1)[:, np.newaxis]\n",
    "        #print(\"Normalized confusion matrix\")\n",
    "    else:\n",
    "        #print('Confusion matrix, without normalization')\n",
    "        pass\n",
    "\n",
    "    #print(cm)\n",
    "\n",
    "    plt.imshow(cm, interpolation='nearest', cmap=cmap)\n",
    "    plt.title(title)\n",
    "    plt.colorbar()\n",
    "    tick_marks = np.arange(len(labels))\n",
    "    plt.xticks(tick_marks, labels, rotation=45)\n",
    "    plt.yticks(tick_marks, labels)\n",
    "\n",
    "    fmt = '.2f' if normalize else 'd'\n",
    "    thresh = cm.max() / 2.\n",
    "    for i, j in itertools.product(range(cm.shape[0]), range(cm.shape[1])):\n",
    "        plt.text(j, i, format(cm[i, j], fmt),\n",
    "                 horizontalalignment=\"center\",\n",
    "                 color=\"white\" if cm[i, j] > thresh else \"black\")\n",
    "\n",
    "    plt.tight_layout()\n",
    "    plt.ylabel('True label')\n",
    "    plt.xlabel('Predicted label')\n",
    "\n",
    "plt.figure(figsize=(14,7))\n",
    "cnf_matrix = confusion_matrix(Y_test, y_pred_class)\n",
    "cnf_matrix = confusion_matrix(Y_test, y_pred_class)\n",
    "plot_confusion_matrix(cnf_matrix, labels=classes)"
   ]
  }
 ],
 "metadata": {
  "kernelspec": {
   "display_name": "Python 3",
   "language": "python",
   "name": "python3"
  },
  "language_info": {
   "codemirror_mode": {
    "name": "ipython",
    "version": 3
   },
   "file_extension": ".py",
   "mimetype": "text/x-python",
   "name": "python",
   "nbconvert_exporter": "python",
   "pygments_lexer": "ipython3",
   "version": "3.6.7"
  }
 },
 "nbformat": 4,
 "nbformat_minor": 2
}
