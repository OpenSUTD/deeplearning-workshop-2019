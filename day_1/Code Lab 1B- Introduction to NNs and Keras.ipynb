{
 "cells": [
  {
   "cell_type": "markdown",
   "metadata": {},
   "source": [
    "# Code Lab 1b\n",
    "\n",
    "Welcome to the next code lab of Day 1! \n",
    "\n",
    "In this code lab, you are going to use Keras - a high level Deep Learning framework developed by Google - to build and train a deep learning model. Keras is one of the fastest growing DL frameworks due to its user-friendliness and the fact that it runs on top of Tensorflow.\n",
    "\n",
    "<img src='https://blog.keras.io/img/keras-tensorflow-logo.jpg' width=\"400\">\n",
    "\n",
    "We'll be working with MNIST and CIFAR10 - two popular datasets which are the \"Hello World\" equivalent for DL. Let's walk through the datasets together."
   ]
  },
  {
   "cell_type": "markdown",
   "metadata": {},
   "source": [
    "## Loading MNIST data\n",
    "\n",
    "MNIST is a database of handwritten digits created by Yann Lecun in 1998. While it is an old dataset, it is still one of the commonly used ways to introduce the power of deep neural networks to students of DL today. The training set consists of 60,000 black-and-white images of handwritten digits of size 28 x 28, while the testing set consists of 10,000 images.\n",
    "\n",
    "Your first task will be to load the images. This can be done easily in Keras as it is one of the datasets available in one of its modules. Refer [here](https://keras.io/datasets/#mnist-database-of-handwritten-digits) to see how to load the data. Note that loading the data might take some time."
   ]
  },
  {
   "cell_type": "code",
   "execution_count": 1,
   "metadata": {},
   "outputs": [
    {
     "name": "stderr",
     "output_type": "stream",
     "text": [
      "Using TensorFlow backend.\n"
     ]
    },
    {
     "ename": "TypeError",
     "evalue": "'ellipsis' object is not iterable",
     "output_type": "error",
     "traceback": [
      "\u001b[0;31m---------------------------------------------------------------------------\u001b[0m",
      "\u001b[0;31mTypeError\u001b[0m                                 Traceback (most recent call last)",
      "\u001b[0;32m<ipython-input-1-294e28a34d37>\u001b[0m in \u001b[0;36m<module>\u001b[0;34m\u001b[0m\n\u001b[1;32m      2\u001b[0m \u001b[0;34m\u001b[0m\u001b[0m\n\u001b[1;32m      3\u001b[0m \u001b[0;31m# answer\u001b[0m\u001b[0;34m\u001b[0m\u001b[0;34m\u001b[0m\u001b[0m\n\u001b[0;32m----> 4\u001b[0;31m \u001b[0;34m(\u001b[0m\u001b[0mX_train\u001b[0m\u001b[0;34m,\u001b[0m \u001b[0my_train\u001b[0m\u001b[0;34m)\u001b[0m\u001b[0;34m,\u001b[0m \u001b[0;34m(\u001b[0m\u001b[0mX_test\u001b[0m\u001b[0;34m,\u001b[0m \u001b[0my_test\u001b[0m\u001b[0;34m)\u001b[0m \u001b[0;34m=\u001b[0m \u001b[0;34m...\u001b[0m\u001b[0;34m\u001b[0m\u001b[0m\n\u001b[0m\u001b[1;32m      5\u001b[0m \u001b[0;31m# end answer\u001b[0m\u001b[0;34m\u001b[0m\u001b[0;34m\u001b[0m\u001b[0m\n\u001b[1;32m      6\u001b[0m \u001b[0;34m\u001b[0m\u001b[0m\n",
      "\u001b[0;31mTypeError\u001b[0m: 'ellipsis' object is not iterable"
     ]
    }
   ],
   "source": [
    "from keras.datasets import mnist\n",
    "\n",
    "# answer\n",
    "(X_train, y_train), (X_test, y_test) = ...\n",
    "# end answer\n",
    "\n",
    "print(\"X_train shape:\", X_train.shape)\n",
    "print(\"y_train shape:\", y_train.shape)\n",
    "print(\"X_test shape:\", X_test.shape)\n",
    "print(\"y_test shape:\", y_test.shape)"
   ]
  },
  {
   "cell_type": "markdown",
   "metadata": {},
   "source": [
    "### Visualising the data"
   ]
  },
  {
   "cell_type": "code",
   "execution_count": 51,
   "metadata": {},
   "outputs": [
    {
     "data": {
      "image/png": "[encoded data removed]",
      "text/plain": [
       "<Figure size 720x720 with 9 Axes>"
      ]
     },
     "metadata": {
      "needs_background": "light"
     },
     "output_type": "display_data"
    }
   ],
   "source": [
    "import matplotlib.pyplot as plt\n",
    "\n",
    "plt.figure(figsize=(10,10))\n",
    "for i in range(9):\n",
    "    plt.subplot(3,3,i+1)\n",
    "    plt.imshow(X_train[i], cmap='gray', interpolation='none')\n",
    "    plt.title(\"Class {}\".format(y_train[i]))\n",
    "    \n",
    "plt.show()"
   ]
  },
  {
   "cell_type": "code",
   "execution_count": 12,
   "metadata": {},
   "outputs": [
    {
     "name": "stdout",
     "output_type": "stream",
     "text": [
      "y_train: [5 0 4 ... 5 6 8]\n",
      "y_test: [7 2 1 ... 4 5 6]\n"
     ]
    }
   ],
   "source": [
    "print(\"y_train:\", y_train)\n",
    "print(\"y_test:\", y_test)"
   ]
  },
  {
   "cell_type": "markdown",
   "metadata": {},
   "source": [
    "### Format the data for training"
   ]
  },
  {
   "cell_type": "markdown",
   "metadata": {},
   "source": [
    "Our neural network is going to take a single vector for each training example, so we need to reshape the input so that each 28x28 image becomes a single 784-dimensional vector. We'll also scale the inputs to be in the range (0-1) rather than (0-255)."
   ]
  },
  {
   "cell_type": "code",
   "execution_count": 13,
   "metadata": {},
   "outputs": [
    {
     "name": "stdout",
     "output_type": "stream",
     "text": [
      "Training matrix shape: (60000, 784)\n",
      "Testing matrix shape: (10000, 784)\n"
     ]
    }
   ],
   "source": [
    "X_train = X_train.reshape(60000, 784)\n",
    "X_test = X_test.reshape(10000, 784)\n",
    "X_train = X_train.astype('float32')\n",
    "X_test = X_test.astype('float32')\n",
    "X_train /= 255\n",
    "X_test /= 255\n",
    "print(\"Training matrix shape:\", X_train.shape)\n",
    "print(\"Testing matrix shape:\", X_test.shape)"
   ]
  },
  {
   "cell_type": "markdown",
   "metadata": {},
   "source": [
    "We also need to modify the target labels to one-hot encoding, i.e.\n",
    "\n",
    "    0 -> [1, 0, 0, 0, 0, 0, 0, 0, 0]  \n",
    "    1 -> [0, 1, 0, 0, 0, 0, 0, 0, 0]  \n",
    "    2 -> [0, 0, 1, 0, 0, 0, 0, 0, 0]  \n",
    "    etc.\n",
    "\n",
    "\n",
    "\n",
    "This will allow Keras to compute the categorical cross entropy in order to find the loss during training. Hint: look at import! You may find [this documentation](https://keras.io/utils/) useful."
   ]
  },
  {
   "cell_type": "code",
   "execution_count": 16,
   "metadata": {},
   "outputs": [
    {
     "name": "stdout",
     "output_type": "stream",
     "text": [
      "Y_train shape: (60000, 10)\n",
      "Y_test shape: (10000, 10)\n"
     ]
    }
   ],
   "source": [
    "from keras.utils import np_utils\n",
    "\n",
    "NUM_CLASSES = 10\n",
    "\n",
    "#answer\n",
    "Y_train = ...\n",
    "Y_test = ...\n",
    "#end answer\n",
    "\n",
    "print(\"Y_train:\", Y_train)\n",
    "print(\"Y_test:\", Y_test)"
   ]
  },
  {
   "cell_type": "markdown",
   "metadata": {},
   "source": [
    "Run the code block below to check that your target shapes are correct before proceeding. If you get an AssertionError, you need to visit the previous code block and debug."
   ]
  },
  {
   "cell_type": "code",
   "execution_count": null,
   "metadata": {},
   "outputs": [],
   "source": [
    "assert Y_train.shape == (60000, 10)\n",
    "assert Y_test.shape == (10000,10)"
   ]
  },
  {
   "cell_type": "markdown",
   "metadata": {},
   "source": [
    "## Build the Neural Network\n",
    "\n",
    "Now we'll build a simple 3 layer fully connected network.\n",
    "<img src=\"https://raw.githubusercontent.com/wxs/keras-mnist-tutorial/8824b7b56963a92ef879f09acd99cf3a210db2b8/figure.png\">\n",
    "\n",
    "To build deep learning models in Keras, there are two APIs that we can use. We'll learn how to use the Sequential API today and on day 2 you'll be introduced to the Model(Functional API).  \n",
    "\n",
    "The Sequential API is very straightforward and intutive. Any deep learning model you want to create is just a linear stack of layers, and the way you stack one layer on top of another is just by calling `model.add(...)`.  \n",
    "\n",
    "Throughout this workshop, you'll be introduced to the different layers available in Keras. In fact, with Keras you can even create your own custom (Lambda) layers. For the purposes of this code lab though, you only need to know the `Dense` layer. Take a moment to read the documentation [here](https://keras.io/layers/core/)\n",
    "\n",
    "The first thing you're going to do is to instantiate your model. You will then need to add the following layers.\n",
    "- `Dense` layer with 512 units and ReLU activation function\n",
    "- `Dense` layer with 512 units and ReLU activation function\n",
    "- `Dense` layer with 10 units and Softmax activation function\n",
    "\n",
    "Give it a go!"
   ]
  },
  {
   "cell_type": "code",
   "execution_count": 18,
   "metadata": {},
   "outputs": [],
   "source": [
    "from keras.models import Sequential\n",
    "from keras.layers import Dense\n",
    "\n",
    "# answer\n",
    "model = ...\n",
    "model.add(...)\n",
    "model.add(...)\n",
    "model.add(...)\n",
    "# end answer"
   ]
  },
  {
   "cell_type": "markdown",
   "metadata": {},
   "source": [
    "### Compiling the model\n",
    "\n",
    "The next step after creating the model is to compile it, so training the model can run efficiently on CPU and GPU without the overhead of the Python interpreter. \n",
    "\n",
    "When compiing a model, Keras asks you to specify your __loss function__ , __optimizer__, and __metrics__ to track during training. The loss function we'll use here is called categorical crossentropy, and is a loss function well-suited to comparing two probability distributions. The optimizer is up to you to choose, but we recommend using \"adam\". For metrics, keep track of accuracy. Refer to the documentation [here](https://keras.io/getting-started/sequential-model-guide/). "
   ]
  },
  {
   "cell_type": "code",
   "execution_count": 19,
   "metadata": {},
   "outputs": [],
   "source": [
    "# answer\n",
    "model.compile(...)\n",
    "# end answer"
   ]
  },
  {
   "cell_type": "code",
   "execution_count": null,
   "metadata": {},
   "outputs": [],
   "source": [
    "model.summary()"
   ]
  },
  {
   "cell_type": "markdown",
   "metadata": {},
   "source": [
    "## Train the model!\n",
    "\n",
    "Alright! This is the fun part; you can feed the training data loaded in earlier into this model and it will learn to classify digits.\n",
    "\n",
    "To do this, you'll need to use the `fit` function in Keras. Refer to the documentation [here](https://keras.io/models/sequential/)."
   ]
  },
  {
   "cell_type": "code",
   "execution_count": 25,
   "metadata": {},
   "outputs": [
    {
     "name": "stdout",
     "output_type": "stream",
     "text": [
      "Number of epochs: 4\n",
      "Batch size: 128\n",
      "Verbosity: 1\n"
     ]
    }
   ],
   "source": [
    "NUM_EPOCHS = 4\n",
    "BATCH_SIZE = 128\n",
    "VERBOSITY = 1\n",
    "\n",
    "print(\"Number of epochs:\", NUM_EPOCHS)\n",
    "print(\"Batch size:\", BATCH_SIZE)\n",
    "print(\"Verbosity:\", VERBOSITY)"
   ]
  },
  {
   "cell_type": "code",
   "execution_count": 31,
   "metadata": {},
   "outputs": [
    {
     "name": "stdout",
     "output_type": "stream",
     "text": [
      "Epoch 1/4\n",
      "60000/60000 [==============================] - 1s 17us/step - loss: 0.0258 - acc: 0.9911\n",
      "Epoch 2/4\n",
      "60000/60000 [==============================] - 1s 17us/step - loss: 0.0224 - acc: 0.9925\n",
      "Epoch 3/4\n",
      "60000/60000 [==============================] - 1s 17us/step - loss: 0.0202 - acc: 0.9932\n",
      "Epoch 4/4\n",
      "60000/60000 [==============================] - 1s 17us/step - loss: 0.0149 - acc: 0.9953\n"
     ]
    }
   ],
   "source": [
    "# answer\n",
    "model.fit(...)\n",
    "# end answer"
   ]
  },
  {
   "cell_type": "markdown",
   "metadata": {},
   "source": [
    "## Finally, evaluate its performance"
   ]
  },
  {
   "cell_type": "code",
   "execution_count": 28,
   "metadata": {},
   "outputs": [
    {
     "name": "stdout",
     "output_type": "stream",
     "text": [
      "10000/10000 [==============================] - 0s 19us/step\n",
      "Test loss: 0.07140096148285957\n",
      "Test accuracy: 0.978\n"
     ]
    }
   ],
   "source": [
    "score = model.evaluate(X_test, Y_test, verbose=1)\n",
    "print('Test loss:', score[0])\n",
    "print('Test accuracy:', score[1])"
   ]
  },
  {
   "cell_type": "markdown",
   "metadata": {},
   "source": [
    "### Inspecting the output\n",
    "\n",
    "It's always a good idea to inspect the output and make sure everything looks sane. Here we'll look at some examples it gets right, and some examples it gets wrong."
   ]
  },
  {
   "cell_type": "code",
   "execution_count": 34,
   "metadata": {},
   "outputs": [
    {
     "name": "stdout",
     "output_type": "stream",
     "text": [
      "Predicted Classes: [7 2 1 ... 4 5 6]\n",
      "Ground Truth: [7 2 1 ... 4 5 6]\n"
     ]
    }
   ],
   "source": [
    "# The predict_classes function outputs the highest probability class\n",
    "# according to the trained classifier for each input example.\n",
    "predicted_classes = model.predict_classes(X_test)\n",
    "print(\"Predicted Classes:\", predicted_classes)\n",
    "print(\"Ground Truth:\", y_test)\n",
    "\n",
    "# Check which items we got right / wrong\n",
    "correct_indices = np.nonzero(predicted_classes == y_test)[0]\n",
    "incorrect_indices = np.nonzero(predicted_classes != y_test)[0]"
   ]
  },
  {
   "cell_type": "code",
   "execution_count": 41,
   "metadata": {},
   "outputs": [
    {
     "name": "stdout",
     "output_type": "stream",
     "text": [
      "Legend: (Predicted Class, Actual Class)\n"
     ]
    },
    {
     "data": {
      "image/png": "[encoded data removed]",
      "text/plain": [
       "<Figure size 720x720 with 9 Axes>"
      ]
     },
     "metadata": {
      "needs_background": "light"
     },
     "output_type": "display_data"
    },
    {
     "data": {
      "image/png": "[encoded data removed]",
      "text/plain": [
       "<Figure size 720x720 with 9 Axes>"
      ]
     },
     "metadata": {
      "needs_background": "light"
     },
     "output_type": "display_data"
    }
   ],
   "source": [
    "print(\"Legend: (Predicted Class, Actual Class)\")\n",
    "plt.figure(figsize=(10,10))\n",
    "for i, correct in enumerate(correct_indices[:9]):\n",
    "    plt.subplot(3,3,i+1)\n",
    "    plt.imshow(X_test[correct].reshape(28,28), cmap='gray', interpolation='none')\n",
    "    plt.title(\" ({},{})\".format(predicted_classes[correct], y_test[correct]))\n",
    "    \n",
    "plt.figure(figsize=(10,10))\n",
    "for i, incorrect in enumerate(incorrect_indices[:9]):\n",
    "    plt.subplot(3,3,i+1)\n",
    "    plt.imshow(X_test[incorrect].reshape(28,28), cmap='gray', interpolation='none')\n",
    "    plt.title(\"({},{})\".format(predicted_classes[incorrect], y_test[incorrect]))"
   ]
  },
  {
   "cell_type": "markdown",
   "metadata": {},
   "source": [
    "Well done! If this was your first ever deep learning project, congratulations! You've just taught a computer how to recognise digits from raw pixels. Isn't that amazing? It's not as if a computer has any notion of what a digits \"look like\" in real-life - they've just internalised the pixel representations via stochastic gradient descent.\n",
    "\n",
    "Alright, if you have time, we strongly encourage you to try a slightly more challenging dataset - CIFAR10. You can just follow the steps above. You can start by downloading it the same way you downloaded MNIST, from the Keras datasets module. Have fun! "
   ]
  }
 ],
 "metadata": {
  "kernelspec": {
   "display_name": "Python 3",
   "language": "python",
   "name": "python3"
  },
  "language_info": {
   "codemirror_mode": {
    "name": "ipython",
    "version": 3
   },
   "file_extension": ".py",
   "mimetype": "text/x-python",
   "name": "python",
   "nbconvert_exporter": "python",
   "pygments_lexer": "ipython3",
   "version": "3.5.2"
  }
 },
 "nbformat": 4,
 "nbformat_minor": 2
}
